{
 "cells": [
  {
   "cell_type": "code",
   "execution_count": null,
   "metadata": {},
   "outputs": [],
   "source": [
    "# INSTALANDO BIBLIOTECA FPDF #\n",
    "from fpdf import FPDF   \n",
    "\n",
    "# ARMAZENANDO DADOS NAS VARIÁVEIS COM INPUT #\n",
    "projeto = input(\"Digite a descrição do projeto: \")\n",
    "horas_estimadas = input(\"Digite o total de horas estimadas: \")\n",
    "valor_hora = input(\"Digite o valor da hora trabalhada: \")\n",
    "prazo = input(\"Digite o prazo estimado para conclusão: \")\n",
    "\n",
    "# CALCULANDO O VALOR DO PROJETO #\n",
    "valor_total = int(horas_estimadas)* int(valor_hora)\n",
    "\n",
    "# VARIÁVEL FPDF ADICIONANDO A PAGINA ADD_PAGE APONTANDO A FONTE VIA SET_FONT #\n",
    "pdf = FPDF()\n",
    "pdf.add_page()\n",
    "pdf.set_font(\"Arial\")\n",
    "\n",
    "# APONTANDO O TEMPLATE DA IMAGEM PRONTA NA PASTA #\n",
    "pdf.image(\"template.png\", x=0,y=0)\n",
    "\n",
    "# CHAMANDO AVARÁVEL PDF PARA PREENCHER LINHA POR LINHA .TEXT #\n",
    "pdf.text(115,145, projeto)\n",
    "pdf.text(115,160, horas_estimadas)\n",
    "pdf.text(115,175, valor_hora)\n",
    "pdf.text(115,190, prazo)\n",
    "pdf.text(115,205,str(valor_total))\n",
    "\n",
    "# FINALIZANDO O PREENCHIMENTO DO PDF E MENSAGEM DE SUCESSO #        \n",
    "pdf.output(\"Orçamento.pdf\") \n",
    "print(\"Orçamento gerado com sucesso!\")\n"
   ]
  },
  {
   "cell_type": "markdown",
   "metadata": {},
   "source": [
    "ARMAZENANDO DADOS NAS VARIÁVEIS"
   ]
  },
  {
   "cell_type": "markdown",
   "metadata": {},
   "source": []
  }
 ],
 "metadata": {
  "language_info": {
   "name": "python"
  }
 },
 "nbformat": 4,
 "nbformat_minor": 2
}
